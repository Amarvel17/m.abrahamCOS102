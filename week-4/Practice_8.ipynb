{
 "cells": [
  {
   "cell_type": "code",
   "execution_count": 1,
   "id": "dbd99d0b-7241-4d71-944a-33513c9e7245",
   "metadata": {},
   "outputs": [
    {
     "name": "stdout",
     "output_type": "stream",
     "text": [
      "Inside the function local total: 30\n",
      "Outside the function local total: 50\n"
     ]
    }
   ],
   "source": [
    "total = 50; # this is a global variable\n",
    "def sum (arg1, arg2):\n",
    "    # add both parameters\n",
    "    total = arg1 + arg2\n",
    "    print(\"Inside the function local total:\", total)\n",
    "    return total;\n",
    "sum(10,20)\n",
    "print(\"Outside the function local total:\", total)\n"
   ]
  },
  {
   "cell_type": "code",
   "execution_count": null,
   "id": "46917e85-1e8c-4552-951b-99455c9ad533",
   "metadata": {},
   "outputs": [],
   "source": []
  }
 ],
 "metadata": {
  "kernelspec": {
   "display_name": "Python 3 (ipykernel)",
   "language": "python",
   "name": "python3"
  },
  "language_info": {
   "codemirror_mode": {
    "name": "ipython",
    "version": 3
   },
   "file_extension": ".py",
   "mimetype": "text/x-python",
   "name": "python",
   "nbconvert_exporter": "python",
   "pygments_lexer": "ipython3",
   "version": "3.12.7"
  }
 },
 "nbformat": 4,
 "nbformat_minor": 5
}
