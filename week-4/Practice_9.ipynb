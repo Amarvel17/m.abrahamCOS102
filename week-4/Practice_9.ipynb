{
 "cells": [
  {
   "cell_type": "code",
   "execution_count": 17,
   "id": "c980f172-bb16-4cae-8938-6b0db08357bb",
   "metadata": {},
   "outputs": [
    {
     "name": "stdout",
     "output_type": "stream",
     "text": [
      "Lawal Edward Tolu Tina\n",
      "Lawal\n"
     ]
    }
   ],
   "source": [
    "a = \"Initial Value\" \n",
    "\n",
    "def swap(x, y):\n",
    "    global a\n",
    "    a = \"Lawal\"  \n",
    "    x, y = y, x \n",
    "    b = \"Edward\" \n",
    "    print(a, b, x, y)  \n",
    "\n",
    "swap(\"Tina\", \"Tolu\")  \n",
    "print(a) \n"
   ]
  },
  {
   "cell_type": "code",
   "execution_count": null,
   "id": "9fc7b596-84eb-4e29-bcfc-184792473499",
   "metadata": {},
   "outputs": [],
   "source": []
  }
 ],
 "metadata": {
  "kernelspec": {
   "display_name": "Python 3 (ipykernel)",
   "language": "python",
   "name": "python3"
  },
  "language_info": {
   "codemirror_mode": {
    "name": "ipython",
    "version": 3
   },
   "file_extension": ".py",
   "mimetype": "text/x-python",
   "name": "python",
   "nbconvert_exporter": "python",
   "pygments_lexer": "ipython3",
   "version": "3.12.7"
  }
 },
 "nbformat": 4,
 "nbformat_minor": 5
}
