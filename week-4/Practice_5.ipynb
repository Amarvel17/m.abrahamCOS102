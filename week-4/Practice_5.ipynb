{
 "cells": [
  {
   "cell_type": "code",
   "execution_count": 2,
   "id": "f43a621b-fc0c-4a5d-adba-e5edbee3d099",
   "metadata": {},
   "outputs": [
    {
     "name": "stdout",
     "output_type": "stream",
     "text": [
      "Name: miki\n",
      "Age: 50\n"
     ]
    }
   ],
   "source": [
    "def printinfo( name, age ):\n",
    "    # Test function\n",
    "    print(\"Name:\", name)\n",
    "    print(\"Age:\", age)\n",
    "    return\n",
    "\n",
    "printinfo(age = 50, name =\"miki\")"
   ]
  },
  {
   "cell_type": "code",
   "execution_count": null,
   "id": "4d0dfae8-5afc-4c54-b9e9-0b15c55d25f8",
   "metadata": {},
   "outputs": [],
   "source": []
  }
 ],
 "metadata": {
  "kernelspec": {
   "display_name": "Python 3 (ipykernel)",
   "language": "python",
   "name": "python3"
  },
  "language_info": {
   "codemirror_mode": {
    "name": "ipython",
    "version": 3
   },
   "file_extension": ".py",
   "mimetype": "text/x-python",
   "name": "python",
   "nbconvert_exporter": "python",
   "pygments_lexer": "ipython3",
   "version": "3.12.7"
  }
 },
 "nbformat": 4,
 "nbformat_minor": 5
}
