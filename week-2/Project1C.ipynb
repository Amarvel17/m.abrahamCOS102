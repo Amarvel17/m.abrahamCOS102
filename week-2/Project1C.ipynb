{
 "cells": [
  {
   "cell_type": "code",
   "execution_count": 1,
   "id": "421210a7-4bf4-4f1a-b010-9147120e6c10",
   "metadata": {},
   "outputs": [
    {
     "name": "stdout",
     "output_type": "stream",
     "text": [
      "Marvelous is now 17 years old.\n",
      "Florence is now 25 years old.\n"
     ]
    }
   ],
   "source": [
    "def swap_ages (name1, age1, name2, age2):\n",
    "    return (name1, age2), (name2, age1)\n",
    "\n",
    "name1, age1, name2, age2 = \"Marvelous\", 25, \"Florence\", 17\n",
    "name_1, name_2 = swap_ages(name1, age1, name2, age2)\n",
    "\n",
    "print(f\"{name_1[0]} is now {name_1[1]} years old.\")\n",
    "print(f\"{name_2[0]} is now {name_2[1]} years old.\")\n"
   ]
  },
  {
   "cell_type": "code",
   "execution_count": null,
   "id": "150b8d1b-881b-467d-b91b-14fc28df4378",
   "metadata": {},
   "outputs": [],
   "source": []
  }
 ],
 "metadata": {
  "kernelspec": {
   "display_name": "Python 3 (ipykernel)",
   "language": "python",
   "name": "python3"
  },
  "language_info": {
   "codemirror_mode": {
    "name": "ipython",
    "version": 3
   },
   "file_extension": ".py",
   "mimetype": "text/x-python",
   "name": "python",
   "nbconvert_exporter": "python",
   "pygments_lexer": "ipython3",
   "version": "3.12.7"
  }
 },
 "nbformat": 4,
 "nbformat_minor": 5
}
