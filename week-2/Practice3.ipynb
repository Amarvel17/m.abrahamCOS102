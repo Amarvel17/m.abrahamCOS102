{
 "cells": [
  {
   "cell_type": "code",
   "execution_count": null,
   "id": "974e7601-2c7f-478b-8e51-3cc10490669b",
   "metadata": {},
   "outputs": [],
   "source": [
    "list = [ 'Anaconda', 786 , 2.23 , 'Jupyter' , 70.2 ]\n",
    "shortlist = [ 321, 'Python' ]\n",
    "\n",
    "print(list)                 '''Print complete list'''\n",
    "print(list[0])              # Print first element of the list\n",
    "print(list[1:3])            # Print elements starting from second till third\n",
    "print(list[2:])             '''Print elements starting from 3rd element'''\n",
    "print(shortlist*2)          # prints list two times\n",
    "print(list + shortlist)     # prints concatenated lists"
   ]
  }
 ],
 "metadata": {
  "kernelspec": {
   "display_name": "Python 3 (ipykernel)",
   "language": "python",
   "name": "python3"
  },
  "language_info": {
   "codemirror_mode": {
    "name": "ipython",
    "version": 3
   },
   "file_extension": ".py",
   "mimetype": "text/x-python",
   "name": "python",
   "nbconvert_exporter": "python",
   "pygments_lexer": "ipython3",
   "version": "3.12.7"
  }
 },
 "nbformat": 4,
 "nbformat_minor": 5
}
