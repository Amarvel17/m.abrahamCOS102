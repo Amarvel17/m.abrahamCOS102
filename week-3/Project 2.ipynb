{
 "cells": [
  {
   "cell_type": "code",
   "execution_count": null,
   "id": "97af953f-5ae1-45c7-8273-f76f5825b351",
   "metadata": {},
   "outputs": [
    {
     "name": "stdout",
     "output_type": "stream",
     "text": [
      "Welcome to Izifin Technology Annual Tax Revenue Checker\n"
     ]
    },
    {
     "name": "stdin",
     "output_type": "stream",
     "text": [
      "Enter your name:  Marvelous\n"
     ]
    }
   ],
   "source": [
    "print(\"Welcome to Izifin Technology Annual Tax Revenue Checker\")\n",
    "\n",
    "Name_of_staff = str(input(\"Enter your name: \"))\n",
    "Years_of_experience = int(input(\"Enter years of experience: \"))\n",
    "Age_of_staff = int(input(\"Enter your age: \"))\n",
    "\n",
    "if Years_of_experience > 25 and Age_of_staff >= 55:\n",
    "   print(\"Your Annual Tax Revenue is 5600000\")\n",
    "elif Years_of_experience > 20 and Age_of_staff >= 45:\n",
    "   print(\"Your Annual Tax Revenue is 4480000\")\n",
    "elif Years_of_experience > 10 and Age_of_staff >= 35:\n",
    "   print(\"Your Annual Tax Revenue is 1500000\")\n",
    "elif Years_of_experience < 10 and Age_of_staff < 35:\n",
    "   print(\"Your Annual Tax Revenue is 550000\")\n",
    "else:\n",
    "   print(\"You are not eligible to pay ATR\")\n",
    "\n",
    "\n"
   ]
  },
  {
   "cell_type": "code",
   "execution_count": null,
   "id": "a4d59056-b033-4774-94e0-2176434b7303",
   "metadata": {},
   "outputs": [],
   "source": []
  }
 ],
 "metadata": {
  "kernelspec": {
   "display_name": "Python 3 (ipykernel)",
   "language": "python",
   "name": "python3"
  },
  "language_info": {
   "codemirror_mode": {
    "name": "ipython",
    "version": 3
   },
   "file_extension": ".py",
   "mimetype": "text/x-python",
   "name": "python",
   "nbconvert_exporter": "python",
   "pygments_lexer": "ipython3",
   "version": "3.12.7"
  }
 },
 "nbformat": 4,
 "nbformat_minor": 5
}
