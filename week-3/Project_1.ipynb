{
 "cells": [
  {
   "cell_type": "code",
   "execution_count": 8,
   "id": "ec2569fa-1f24-470f-9665-ba4a49c89947",
   "metadata": {},
   "outputs": [
    {
     "name": "stdout",
     "output_type": "stream",
     "text": [
      "Students Info:\n",
      "Name | Age | Height | Score\n",
      "Evelyn | 17 | 5.5 | 80\n",
      "Chinedu | 19 | 5.7 | 74\n",
      "Jessica | 16 | 6.0 | 85\n",
      "Liam | 16 | 5.9 | 87\n",
      "Somto | 17 | 5.4 | 70\n",
      "Wale | 18 | 5.8 | 75\n",
      "Edith | 18 | 5.9 | 60\n",
      "Gbenga | 17 | 6.1 | 68\n",
      "Liza | 16 | 5.6 | 76\n",
      "Abiola | 20 | 5.9 | 66\n",
      "Madonna | 18 | 5.5 | 66\n",
      "Kola | 19 | 5.5 | 78\n",
      "Waje | 17 | 6.1 | 87\n",
      "Kunle | 16 | 6.1 | 87\n",
      "Tola | 20 | 6.0 | 95\n",
      "George | 18 | 5.4 | 98\n",
      "Aisha | 19 | 5.7 | 50\n",
      "Thomas | 17 | 5.8 | 54\n",
      "Latifa | 17 | 5.5 | 49\n",
      "Wesley | 19 | 5.7 | 60\n"
     ]
    }
   ],
   "source": [
    "# Create a table using lists of lists \n",
    "\n",
    "table = [\n",
    "    ['Name',  'Age', 'Height', 'Score'],\n",
    "    ['Evelyn',  17,    5.5,      80],\n",
    "    ['Chinedu', 19,    5.7,      74],\n",
    "    ['Jessica', 16,    6.0,      85],\n",
    "    ['Liam',    16,    5.9,      87],\n",
    "    ['Somto',   17,    5.4,      70],\n",
    "    ['Wale',    18,    5.8,      75],\n",
    "    ['Edith',   18,    5.9,      60],\n",
    "    ['Gbenga',  17,    6.1,      68],\n",
    "    ['Liza',    16,    5.6,      76],\n",
    "    ['Abiola',  20,    5.9,      66],\n",
    "    ['Madonna', 18,    5.5,      66],\n",
    "    ['Kola',    19,    5.5,      78],\n",
    "    ['Waje',    17,    6.1,      87],\n",
    "    ['Kunle',   16,    6.1,      87],\n",
    "    ['Tola',    20,    6.0,      95],\n",
    "    ['George',  18,    5.4,      98],\n",
    "    ['Aisha',   19,    5.7,      50],\n",
    "    ['Thomas',  17,    5.8,      54],\n",
    "    ['Latifa',  17,    5.5,      49],\n",
    "    ['Wesley',  19,    5.7,      60],\n",
    "]\n",
    "\n",
    "def print_table(table):\n",
    "    for row in table:\n",
    "        print(\" | \".join(str(cell) for cell in row))\n",
    "\n",
    "print(\"Students Info:\")\n",
    "print_table(table)"
   ]
  },
  {
   "cell_type": "code",
   "execution_count": null,
   "id": "e0174566-2b76-4883-9c0b-3f44ca621f07",
   "metadata": {},
   "outputs": [],
   "source": []
  },
  {
   "cell_type": "code",
   "execution_count": null,
   "id": "4d6f3566-6ef5-4e66-9ecb-c6b507e39575",
   "metadata": {},
   "outputs": [],
   "source": []
  }
 ],
 "metadata": {
  "kernelspec": {
   "display_name": "Python 3 (ipykernel)",
   "language": "python",
   "name": "python3"
  },
  "language_info": {
   "codemirror_mode": {
    "name": "ipython",
    "version": 3
   },
   "file_extension": ".py",
   "mimetype": "text/x-python",
   "name": "python",
   "nbconvert_exporter": "python",
   "pygments_lexer": "ipython3",
   "version": "3.12.7"
  }
 },
 "nbformat": 4,
 "nbformat_minor": 5
}
