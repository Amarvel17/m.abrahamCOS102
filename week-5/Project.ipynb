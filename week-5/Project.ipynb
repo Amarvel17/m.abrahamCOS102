{
 "cells": [
  {
   "cell_type": "code",
   "execution_count": null,
   "id": "4c5e8703-46b4-4b82-8f02-0162108ec13f",
   "metadata": {},
   "outputs": [
    {
     "name": "stdout",
     "output_type": "stream",
     "text": [
      "CSV file not found. Please make sure GIG-logistics.csv is in the same folder.\n"
     ]
    },
    {
     "name": "stderr",
     "output_type": "stream",
     "text": [
      "Exception in Tkinter callback\n",
      "Traceback (most recent call last):\n",
      "  File \"C:\\Users\\EXAMS\\anaconda3\\Lib\\tkinter\\__init__.py\", line 1968, in __call__\n",
      "    return self.func(*args)\n",
      "           ^^^^^^^^^^^^^^^^\n",
      "  File \"C:\\Users\\EXAMS\\AppData\\Local\\Temp\\ipykernel_15988\\3059730644.py\", line 17, in verify_employee\n",
      "    match = df[(df['Name'].str.lower() == name.lower()) &\n",
      "           ^^\n",
      "NameError: name 'df' is not defined\n",
      "Exception in Tkinter callback\n",
      "Traceback (most recent call last):\n",
      "  File \"C:\\Users\\EXAMS\\anaconda3\\Lib\\tkinter\\__init__.py\", line 1968, in __call__\n",
      "    return self.func(*args)\n",
      "           ^^^^^^^^^^^^^^^^\n",
      "  File \"C:\\Users\\EXAMS\\AppData\\Local\\Temp\\ipykernel_15988\\3059730644.py\", line 17, in verify_employee\n",
      "    match = df[(df['Name'].str.lower() == name.lower()) &\n",
      "           ^^\n",
      "NameError: name 'df' is not defined\n"
     ]
    }
   ],
   "source": [
    "import tkinter as tk\n",
    "from tkinter import messagebox\n",
    "import pandas as pd\n",
    "\n",
    "# Load the dataset\n",
    "try:\n",
    "    df = pd.read_csv(\"GIG-logistics.csv\")\n",
    "except FileNotFoundError:\n",
    "    print(\"CSV file not found. Please make sure GIG-logistics.csv is in the same folder.\")\n",
    "    exit()\n",
    "\n",
    "def verify_employee():\n",
    "    name = name_entry.get().strip()\n",
    "    department = dept_entry.get().strip()\n",
    "\n",
    "    # Search for employee\n",
    "    match = df[(df['Name'].str.lower() == name.lower()) & \n",
    "               (df['Department'].str.lower() == department.lower())]\n",
    "\n",
    "    if not match.empty:\n",
    "        # Employee exists\n",
    "        welcome_window = tk.Toplevel(root)\n",
    "        welcome_window.title(\"Welcome\")\n",
    "        welcome_window.geometry(\"400x200\")\n",
    "        \n",
    "        msg = f\"Welcome {name.title()}!\\n\\nHere are your colleagues in {department.title()}:\"\n",
    "        tk.Label(welcome_window, text=msg).pack()\n",
    "\n",
    "        # Display other department members\n",
    "        colleagues = df[(df['Department'].str.lower() == department.lower()) & \n",
    "                        (df['Name'].str.lower() != name.lower())]\n",
    "\n",
    "        if not colleagues.empty:\n",
    "            for col in colleagues['Name']:\n",
    "                tk.Label(welcome_window, text=f\"- {col}\").pack()\n",
    "        else:\n",
    "            tk.Label(welcome_window, text=\"(You are the only one in this department!)\").pack()\n",
    "\n",
    "    else:\n",
    "        messagebox.showinfo(\"Result\", \"Employee not found. Please check name or department.\")\n",
    "\n",
    "# GUI setup\n",
    "root = tk.Tk()\n",
    "root.title(\"GIG Logistics Employee Verifier\")\n",
    "root.geometry(\"400x250\")\n",
    "\n",
    "tk.Label(root, text=\"Enter Name:\").pack()\n",
    "name_entry = tk.Entry(root)\n",
    "name_entry.pack()\n",
    "\n",
    "tk.Label(root, text=\"Enter Department:\").pack()\n",
    "dept_entry = tk.Entry(root)\n",
    "dept_entry.pack()\n",
    "\n",
    "verify_button = tk.Button(root, text=\"Verify\", command=verify_employee)\n",
    "verify_button.pack(pady=10)\n",
    "\n",
    "root.mainloop()\n"
   ]
  },
  {
   "cell_type": "code",
   "execution_count": null,
   "id": "5bc42e34-5782-4787-a0a9-be89a99b862e",
   "metadata": {},
   "outputs": [],
   "source": []
  }
 ],
 "metadata": {
  "kernelspec": {
   "display_name": "Python 3 (ipykernel)",
   "language": "python",
   "name": "python3"
  },
  "language_info": {
   "codemirror_mode": {
    "name": "ipython",
    "version": 3
   },
   "file_extension": ".py",
   "mimetype": "text/x-python",
   "name": "python",
   "nbconvert_exporter": "python",
   "pygments_lexer": "ipython3",
   "version": "3.12.7"
  }
 },
 "nbformat": 4,
 "nbformat_minor": 5
}
